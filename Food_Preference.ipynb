{
  "nbformat": 4,
  "nbformat_minor": 0,
  "metadata": {
    "colab": {
      "name": "Food_Preference.ipynb",
      "provenance": [],
      "authorship_tag": "ABX9TyOnNpLZBR0ZvD45tnUZuCYT",
      "include_colab_link": true
    },
    "kernelspec": {
      "name": "python3",
      "display_name": "Python 3"
    }
  },
  "cells": [
    {
      "cell_type": "markdown",
      "metadata": {
        "id": "view-in-github",
        "colab_type": "text"
      },
      "source": [
        "<a href=\"https://colab.research.google.com/github/ShivangiSharma77/ASL_MachineLearning/blob/main/Food_Preference.ipynb\" target=\"_parent\"><img src=\"https://colab.research.google.com/assets/colab-badge.svg\" alt=\"Open In Colab\"/></a>"
      ]
    },
    {
      "cell_type": "code",
      "metadata": {
        "colab": {
          "resources": {
            "http://localhost:8080/nbextensions/google.colab/files.js": {
              "data": "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",
              "ok": true,
              "headers": [
                [
                  "content-type",
                  "application/javascript"
                ]
              ],
              "status": 200,
              "status_text": ""
            }
          },
          "base_uri": "https://localhost:8080/",
          "height": 110
        },
        "id": "HKTk9g2oI3R4",
        "outputId": "b0d4eee5-6eac-4504-ace9-62666beccc86"
      },
      "source": [
        "from google.colab import files\r\n",
        "files.upload()"
      ],
      "execution_count": 1,
      "outputs": [
        {
          "output_type": "display_data",
          "data": {
            "text/html": [
              "\n",
              "     <input type=\"file\" id=\"files-82dc6580-2b3f-4763-a1b9-81d21febc993\" name=\"files[]\" multiple disabled\n",
              "        style=\"border:none\" />\n",
              "     <output id=\"result-82dc6580-2b3f-4763-a1b9-81d21febc993\">\n",
              "      Upload widget is only available when the cell has been executed in the\n",
              "      current browser session. Please rerun this cell to enable.\n",
              "      </output>\n",
              "      <script src=\"/nbextensions/google.colab/files.js\"></script> "
            ],
            "text/plain": [
              "<IPython.core.display.HTML object>"
            ]
          },
          "metadata": {
            "tags": []
          }
        },
        {
          "output_type": "stream",
          "text": [
            "Saving Food_Preference.csv to Food_Preference.csv\n"
          ],
          "name": "stdout"
        },
        {
          "output_type": "execute_result",
          "data": {
            "text/plain": [
              "{'Food_Preference.csv': b'Timestamp,Participant_ID,Gender,Nationality,Age,Food,Juice,Dessert\\r\\n2019/05/07 2:59:13 PM GMT+8,FPS001,Male,Indian,24,Traditional food,Fresh Juice,Maybe\\r\\n2019/05/07 2:59:45 PM GMT+8,FPS002,Female,Indian,22,Western Food,Carbonated drinks,Yes\\r\\n2019/05/07 3:00:05 PM GMT+8,FPS003,Male,Indian,31,Western Food,Fresh Juice,Maybe\\r\\n2019/05/07 3:00:11 PM GMT+8,FPS004,Female,Indian,25,Traditional food,Fresh Juice,Maybe\\r\\n2019/05/07 3:02:50 PM GMT+8,FPS005,Male,Indian,27,Traditional food,Fresh Juice,Maybe\\r\\n2019/05/07 3:03:34 PM GMT+8,FPS006,Male,Indian,24,Traditional food,Fresh Juice,Yes\\r\\n2019/05/07 3:03:48 PM GMT+8,FPS007,Female,Indian,34,Traditional food,Fresh Juice,Yes\\r\\n2019/05/07 3:04:37 PM GMT+8,FPS008,Male,Pakistani ,24,Western Food,Carbonated drinks,Yes\\r\\n2019/05/07 3:05:39 PM GMT+8,FPS009,Female,Indian,19,Traditional food,Fresh Juice,Yes\\r\\n2019/05/07 3:06:53 PM GMT+8,FPS010,Female,Indian,16,Western Food,Fresh Juice,Yes\\r\\n2019/05/07 3:07:26 PM GMT+8,FPS011,Male,Tanzanian,23,Traditional food,Fresh Juice,No\\r\\n2019/05/07 3:07:36 PM GMT+8,FPS012,Female,Indian,22,Traditional food,Fresh Juice,Yes\\r\\n2019/05/07 3:07:36 PM GMT+8,FPS013,Female,Indonesia,22,Traditional food,Fresh Juice,Maybe\\r\\n2019/05/07 3:07:49 PM GMT+8,FPS014,Female,Indian,24,Western Food,Carbonated drinks,Yes\\r\\n2019/05/07 3:09:06 PM GMT+8,FPS015,,Muslim,27,Traditional food,Fresh Juice,Yes\\r\\n2019/05/07 3:09:47 PM GMT+8,FPS016,Male,Pakistan,25,Traditional food,Fresh Juice,Maybe\\r\\n2019/05/07 3:10:37 PM GMT+8,FPS017,Male,Maldivian ,26,Traditional food,Fresh Juice,No\\r\\n2019/05/07 3:12:29 PM GMT+8,FPS018,Male,MY,22,Traditional food,Fresh Juice,No\\r\\n2019/05/07 3:13:11 PM GMT+8,FPS019,Female,Malaysian,38,Traditional food,Fresh Juice,Maybe\\r\\n2019/05/07 3:18:07 PM GMT+8,FPS020,Female,Indian,31,Traditional food,Fresh Juice,Maybe\\r\\n2019/05/07 3:18:21 PM GMT+8,FPS021,Male,Malaysian ,21,Traditional food,Carbonated drinks,Maybe\\r\\n2019/05/07 3:20:06 PM GMT+8,FPS022,Male,Indonesia,20,Traditional food,Fresh Juice,Maybe\\r\\n2019/05/07 3:21:27 PM GMT+8,FPS023,Male,Malaysian,20,Western Food,Fresh Juice,Maybe\\r\\n2019/05/07 3:21:40 PM GMT+8,FPS024,Male,Malaysian,22,Western Food,Fresh Juice,Yes\\r\\n2019/05/07 3:22:09 PM GMT+8,FPS025,Male,Malaysian,20,Traditional food,Fresh Juice,Yes\\r\\n2019/05/07 3:24:47 PM GMT+8,FPS026,Female,Indonesian ,24,Traditional food,Fresh Juice,Yes\\r\\n2019/05/07 3:29:38 PM GMT+8,FPS027,Male,Indian,43,Traditional food,Fresh Juice,Maybe\\r\\n2019/05/07 3:31:17 PM GMT+8,FPS028,Female,Maldivian,29,Western Food,Fresh Juice,Yes\\r\\n2019/05/07 3:33:04 PM GMT+8,FPS029,Male,Indian,39,Traditional food,Fresh Juice,Yes\\r\\n2019/05/07 3:33:40 PM GMT+8,FPS030,Male,Indian,26,Traditional food,Fresh Juice,Yes\\r\\n2019/05/07 3:42:00 PM GMT+8,FPS031,Male,MALAYSIAN,21,Traditional food,Carbonated drinks,Maybe\\r\\n2019/05/07 3:42:05 PM GMT+8,FPS032,Female,MY,40,Western Food,Fresh Juice,Yes\\r\\n2019/05/07 3:46:10 PM GMT+8,FPS033,Male,Indian,13,Western Food,Fresh Juice,Maybe\\r\\n2019/05/07 3:46:28 PM GMT+8,FPS034,Male,Indian,13,Western Food,Fresh Juice,Maybe\\r\\n2019/05/07 3:46:56 PM GMT+8,FPS035,Male,Indian,13,Western Food,Fresh Juice,Maybe\\r\\n2019/05/07 3:47:18 PM GMT+8,FPS036,Male,Malaysia ,24,Western Food,Fresh Juice,Yes\\r\\n2019/05/07 3:47:44 PM GMT+8,FPS037,Male,Indian,13,Western Food,Fresh Juice,Maybe\\r\\n2019/05/07 3:48:18 PM GMT+8,FPS038,Male,Indian,24,Traditional food,Fresh Juice,Yes\\r\\n2019/05/07 3:48:35 PM GMT+8,FPS039,Male,Malaysian,21,Traditional food,Fresh Juice,Maybe\\r\\n2019/05/07 3:49:18 PM GMT+8,FPS040,Female,Indian,34,Traditional food,Fresh Juice,Maybe\\r\\n2019/05/07 3:57:01 PM GMT+8,FPS041,Female,Pakistani ,18,Traditional food,Fresh Juice,Maybe\\r\\n2019/05/07 3:58:08 PM GMT+8,FPS042,Male,Pakistani,26,Traditional food,Fresh Juice,Yes\\r\\n2019/05/07 3:59:01 PM GMT+8,FPS043,Male,Canadian,24,Western Food,Fresh Juice,Yes\\r\\n2019/05/07 3:59:37 PM GMT+8,FPS044,Male,Pakistani,60,Traditional food,Carbonated drinks,Yes\\r\\n2019/05/07 4:00:28 PM GMT+8,FPS045,Male,Malaysian,21,Western Food,Carbonated drinks,Yes\\r\\n2019/05/07 4:00:47 PM GMT+8,FPS046,Female,Nigerian ,21,Traditional food,Fresh Juice,Yes\\r\\n2019/05/07 4:01:42 PM GMT+8,FPS047,Male,Pakistani,24,Western Food,Fresh Juice,Yes\\r\\n2019/05/07 4:01:44 PM GMT+8,FPS048,Male,Indian,25,Western Food,Fresh Juice,Yes\\r\\n2019/05/07 4:02:29 PM GMT+8,FPS049,Male,Indian,23,Traditional food,Fresh Juice,Maybe\\r\\n2019/05/07 4:03:06 PM GMT+8,FPS050,Female,Algerian ,25,Traditional food,Fresh Juice,Yes\\r\\n2019/05/07 4:03:45 PM GMT+8,FPS051,Female,Indian,22,Traditional food,Fresh Juice,Maybe\\r\\n2019/05/07 4:04:58 PM GMT+8,FPS052,Male,Korean ,27,Western Food,Fresh Juice,No\\r\\n2019/05/07 4:05:29 PM GMT+8,FPS053,Male,Indian,26,Traditional food,Fresh Juice,No\\r\\n2019/05/07 4:05:34 PM GMT+8,FPS054,Female,Indian,30,Traditional food,Fresh Juice,Yes\\r\\n2019/05/07 4:09:53 PM GMT+8,FPS055,Female,Indian,25,Traditional food,Fresh Juice,Maybe\\r\\n2019/05/07 4:10:02 PM GMT+8,FPS056,Male,Indian,23,Western Food,Carbonated drinks,Yes\\r\\n2019/05/07 4:10:56 PM GMT+8,FPS057,Female,Indian,25,Traditional food,Fresh Juice,Yes\\r\\n2019/05/07 4:11:01 PM GMT+8,FPS058,Male,Indian,21,Traditional food,Fresh Juice,Maybe\\r\\n2019/05/07 4:11:10 PM GMT+8,FPS059,Male,Indian,47,Traditional food,Fresh Juice,No\\r\\n2019/05/07 4:11:51 PM GMT+8,FPS060,Male,Indian,21,Western Food,Carbonated drinks,Maybe\\r\\n2019/05/07 4:12:12 PM GMT+8,FPS061,Female,Indian,25,Traditional food,Fresh Juice,Maybe\\r\\n2019/05/07 4:14:01 PM GMT+8,FPS062,Female,Indian,30,Western Food,Fresh Juice,Maybe\\r\\n2019/05/07 4:14:02 PM GMT+8,FPS063,Female,Indian,54,Traditional food,Carbonated drinks,Yes\\r\\n2019/05/07 4:14:48 PM GMT+8,FPS064,Male,Seychellois,23,Traditional food,Carbonated drinks,Maybe\\r\\n2019/05/07 4:15:12 PM GMT+8,FPS065,Male,Indian,27,Traditional food,Carbonated drinks,Maybe\\r\\n2019/05/07 4:15:14 PM GMT+8,FPS066,Male,Indian,74,Traditional food,Fresh Juice,Yes\\r\\n2019/05/07 4:15:35 PM GMT+8,FPS067,Female,Indian,27,Traditional food,Fresh Juice,Yes\\r\\n2019/05/07 4:16:34 PM GMT+8,FPS068,Male,Indonesia,19,Traditional food,Fresh Juice,Maybe\\r\\n2019/05/07 4:16:36 PM GMT+8,FPS069,Male,Indonesain,19,Western Food,Carbonated drinks,Yes\\r\\n2019/05/07 4:17:15 PM GMT+8,FPS070,Female,Indian,80,Traditional food,Fresh Juice,Yes\\r\\n2019/05/07 4:17:44 PM GMT+8,FPS071,Female,Indian,25,Traditional food,Fresh Juice,No\\r\\n2019/05/07 4:17:56 PM GMT+8,FPS072,Male,Indian,34,Traditional food,Fresh Juice,Maybe\\r\\n2019/05/07 4:18:00 PM GMT+8,FPS073,Female,Indonesian,19,Traditional food,Fresh Juice,Yes\\r\\n2019/05/07 4:18:31 PM GMT+8,FPS074,Female,Indian,80,Traditional food,Fresh Juice,Yes\\r\\n2019/05/07 4:18:51 PM GMT+8,FPS075,Female,Indian,33,Traditional food,Carbonated drinks,Yes\\r\\n2019/05/07 4:24:03 PM GMT+8,FPS076,Male,Indian,33,Traditional food,Fresh Juice,Yes\\r\\n2019/05/07 4:26:19 PM GMT+8,FPS077,Female,Indian,40,Traditional food,Fresh Juice,Maybe\\r\\n2019/05/07 4:27:22 PM GMT+8,FPS078,Male,Malaysia,21,Traditional food,Fresh Juice,Yes\\r\\n2019/05/07 4:28:49 PM GMT+8,FPS079,Male,Indian,36,Traditional food,Fresh Juice,Yes\\r\\n2019/05/07 4:29:55 PM GMT+8,FPS080,Female,Indian,28,Traditional food,Fresh Juice,No\\r\\n2019/05/07 4:30:31 PM GMT+8,FPS081,Female,Indian,28,Traditional food,Fresh Juice,No\\r\\n2019/05/07 4:32:08 PM GMT+8,FPS082,Female,Malaysian,19,Traditional food,Fresh Juice,Yes\\r\\n2019/05/07 4:32:17 PM GMT+8,FPS083,Female,Indian,21,Traditional food,Fresh Juice,Yes\\r\\n2019/05/07 4:38:13 PM GMT+8,FPS084,Female,Indian,40,Traditional food,Fresh Juice,No\\r\\n2019/05/07 4:40:23 PM GMT+8,FPS085,Male,Japan,28,Traditional food,Fresh Juice,Maybe\\r\\n2019/05/07 4:40:48 PM GMT+8,FPS086,Female,Indian,32,Traditional food,Fresh Juice,Maybe\\r\\n2019/05/07 4:41:11 PM GMT+8,FPS087,Female,Indian,38,Traditional food,Fresh Juice,Yes\\r\\n2019/05/07 4:41:57 PM GMT+8,FPS088,Female,Indian,36,Traditional food,Fresh Juice,No\\r\\n2019/05/07 4:42:12 PM GMT+8,FPS089,Female,Malaysian,30,Traditional food,Fresh Juice,Yes\\r\\n2019/05/07 4:42:13 PM GMT+8,FPS090,Male,Indonesia,19,Traditional food,Fresh Juice,Maybe\\r\\n2019/05/07 4:42:50 PM GMT+8,FPS091,Female,Indian,60,Traditional food,Fresh Juice,No\\r\\n2019/05/07 4:42:57 PM GMT+8,FPS092,Female,Malaysian,20,Traditional food,Fresh Juice,Yes\\r\\n2019/05/07 4:43:54 PM GMT+8,FPS093,Female,Indian,39,Western Food,Fresh Juice,No\\r\\n2019/05/07 4:43:58 PM GMT+8,FPS094,Male,Indonesia,22,Traditional food,Fresh Juice,Maybe\\r\\n2019/05/07 4:52:25 PM GMT+8,FPS095,Female,China,23,Traditional food,Fresh Juice,No\\r\\n2019/05/07 4:54:25 PM GMT+8,FPS096,Female,Indian,31,Western Food,Carbonated drinks,Yes\\r\\n2019/05/07 4:55:54 PM GMT+8,FPS097,Female,Indian,31,Western Food,Carbonated drinks,Maybe\\r\\n2019/05/07 4:56:06 PM GMT+8,FPS098,Female,Mauritian,23,Traditional food,Fresh Juice,Maybe\\r\\n2019/05/07 4:56:30 PM GMT+8,FPS099,Male,Indian,23,Traditional food,Carbonated drinks,Yes\\r\\n2019/05/07 4:56:54 PM GMT+8,FPS100,Female,Japan,34,Western Food,Fresh Juice,Maybe\\r\\n2019/05/07 4:58:26 PM GMT+8,FPS101,Female,Indian,25,Traditional food,Fresh Juice,Maybe\\r\\n2019/05/07 4:59:00 PM GMT+8,FPS102,Male,Indian,38,Traditional food,Fresh Juice,Yes\\r\\n2019/05/07 4:59:12 PM GMT+8,FPS103,Male,Malaysian,19,Traditional food,Fresh Juice,Yes\\r\\n2019/05/07 5:04:10 PM GMT+8,FPS104,Female,Indian,19,Western Food,Fresh Juice,Maybe\\r\\n2019/05/07 5:04:27 PM GMT+8,FPS105,Female,Indian,24,Traditional food,Fresh Juice,Yes\\r\\n2019/05/07 5:04:39 PM GMT+8,FPS106,Female,Indian,20,Traditional food,Fresh Juice,Yes\\r\\n2019/05/07 5:05:59 PM GMT+8,FPS107,Female,Indian,20,Traditional food,Fresh Juice,Yes\\r\\n2019/05/07 5:07:17 PM GMT+8,FPS108,Female,Indian,54,Traditional food,Fresh Juice,Yes\\r\\n2019/05/07 5:08:34 PM GMT+8,FPS109,Male,Indian,22,Western Food,Carbonated drinks,Yes\\r\\n2019/05/07 5:08:56 PM GMT+8,FPS110,Female,Indian,16,Western Food,Fresh Juice,Yes\\r\\n2019/05/07 5:09:11 PM GMT+8,FPS111,Male,Indian,23,Western Food,Fresh Juice,Yes\\r\\n2019/05/07 5:09:24 PM GMT+8,FPS112,Female,Indian,47,Traditional food,Fresh Juice,No\\r\\n2019/05/07 5:10:36 PM GMT+8,FPS113,Male,Indian,54,Traditional food,Fresh Juice,No\\r\\n2019/05/07 5:14:11 PM GMT+8,FPS114,Female,Indian,54,Traditional food,Fresh Juice,No\\r\\n2019/05/07 5:16:02 PM GMT+8,FPS115,Male,Yemen,30,Traditional food,Fresh Juice,Yes\\r\\n2019/05/07 5:16:36 PM GMT+8,FPS116,Male,Indian,23,Traditional food,Fresh Juice,Yes\\r\\n2019/05/07 5:17:07 PM GMT+8,FPS117,Female,Indian,32,Traditional food,Fresh Juice,Maybe\\r\\n2019/05/07 5:17:29 PM GMT+8,FPS118,Female,Indian,29,Traditional food,Fresh Juice,Yes\\r\\n2019/05/07 5:22:35 PM GMT+8,FPS119,Female,Indian,8,Traditional food,Fresh Juice,No\\r\\n2019/05/07 5:23:21 PM GMT+8,FPS120,Female,Indian,26,Traditional food,Fresh Juice,Yes\\r\\n2019/05/07 5:26:19 PM GMT+8,FPS121,Female,Indian,27,Traditional food,Fresh Juice,Maybe\\r\\n2019/05/07 5:27:07 PM GMT+8,FPS122,Male,Indian,12,Traditional food,Fresh Juice,No\\r\\n2019/05/07 5:27:35 PM GMT+8,FPS123,Female,Indian,29,Western Food,Fresh Juice,No\\r\\n2019/05/07 5:29:01 PM GMT+8,FPS124,Male,Indian,19,Traditional food,Fresh Juice,Maybe\\r\\n2019/05/07 5:36:05 PM GMT+8,FPS125,Male,Indian,56,Traditional food,Carbonated drinks,Yes\\r\\n2019/05/07 5:36:34 PM GMT+8,FPS126,Female,Indian,53,Traditional food,Carbonated drinks,Maybe\\r\\n2019/05/07 5:41:07 PM GMT+8,FPS127,Male,Indonesia,20,Traditional food,Fresh Juice,Maybe\\r\\n2019/05/07 5:42:59 PM GMT+8,FPS128,Male,Indonesia,19,Traditional food,Fresh Juice,Maybe\\r\\n2019/05/07 5:49:44 PM GMT+8,FPS129,Female,Indian,33,Traditional food,Fresh Juice,Maybe\\r\\n2019/05/07 5:58:36 PM GMT+8,FPS130,Male,Indian,26,Traditional food,Fresh Juice,Maybe\\r\\n2019/05/07 5:59:10 PM GMT+8,FPS131,Female,Indian,31,Traditional food,Fresh Juice,Maybe\\r\\n2019/05/07 6:04:23 PM GMT+8,FPS132,Male,Indian,29,Traditional food,Fresh Juice,No\\r\\n2019/05/07 6:04:46 PM GMT+8,FPS133,Female,Indian,32,Traditional food,Fresh Juice,No\\r\\n2019/05/07 6:05:40 PM GMT+8,FPS134,Female,Indian,39,Traditional food,Fresh Juice,Maybe\\r\\n2019/05/07 6:07:24 PM GMT+8,FPS135,Female,Indian,28,Traditional food,Fresh Juice,Yes\\r\\n2019/05/07 6:11:16 PM GMT+8,FPS136,Female,Indian,30,Traditional food,Fresh Juice,Maybe\\r\\n2019/05/07 6:12:42 PM GMT+8,FPS137,Female,Maldivian,28,Western Food,Carbonated drinks,Maybe\\r\\n2019/05/07 6:13:09 PM GMT+8,FPS138,Female,Indian,30,Traditional food,Fresh Juice,Maybe\\r\\n2019/05/07 6:14:07 PM GMT+8,FPS139,Male,Indian,59,Traditional food,Fresh Juice,No\\r\\n2019/05/07 6:14:39 PM GMT+8,FPS140,Male,Indian,67,Traditional food,Fresh Juice,No\\r\\n2019/05/07 6:15:32 PM GMT+8,FPS141,Female,Indian,63,Traditional food,Fresh Juice,Maybe\\r\\n2019/05/07 6:16:11 PM GMT+8,FPS142,Male,Indian,18,Western Food,Carbonated drinks,Yes\\r\\n2019/05/07 6:16:38 PM GMT+8,FPS143,Female,Indian,37,Traditional food,Fresh Juice,Yes\\r\\n2019/05/07 6:16:52 PM GMT+8,FPS144,Female,Indian,38,Traditional food,Fresh Juice,No\\r\\n2019/05/07 6:17:35 PM GMT+8,FPS145,Male,Indian,38,Traditional food,Fresh Juice,Yes\\r\\n2019/05/07 6:35:24 PM GMT+8,FPS146,Male,Indian,25,Western Food,Fresh Juice,Maybe\\r\\n2019/05/07 6:40:04 PM GMT+8,FPS147,Female,Indian,24,Traditional food,Fresh Juice,Yes\\r\\n2019/05/07 6:49:28 PM GMT+8,FPS148,Female,Indian,33,Traditional food,Fresh Juice,Maybe\\r\\n2019/05/07 6:53:37 PM GMT+8,FPS149,Female,Indian,40,Traditional food,Fresh Juice,Maybe\\r\\n2019/05/07 6:55:45 PM GMT+8,FPS150,Male,Indian,28,Traditional food,Fresh Juice,Maybe\\r\\n2019/05/07 6:56:49 PM GMT+8,FPS151,Male,Indian,27,Western Food,Fresh Juice,Yes\\r\\n2019/05/07 6:57:42 PM GMT+8,FPS152,Male,Indian,24,Traditional food,Fresh Juice,Yes\\r\\n2019/05/07 7:02:00 PM GMT+8,FPS153,Male,Indian,25,Traditional food,Fresh Juice,Yes\\r\\n2019/05/07 7:04:32 PM GMT+8,FPS154,Male,Indian,28,Traditional food,Fresh Juice,Yes\\r\\n2019/05/07 7:04:50 PM GMT+8,FPS155,Male,Indian,15,Western Food,Carbonated drinks,Yes\\r\\n2019/05/07 7:13:29 PM GMT+8,FPS156,Female,Indian,40,Traditional food,Fresh Juice,Maybe\\r\\n2019/05/07 7:15:18 PM GMT+8,FPS157,Female,Indian,35,Traditional food,Fresh Juice,Yes\\r\\n2019/05/07 7:16:13 PM GMT+8,FPS158,Male,Indian,9,Traditional food,Fresh Juice,Maybe\\r\\n2019/05/07 7:17:54 PM GMT+8,FPS159,Male,Indian,30,Traditional food,Carbonated drinks,Maybe\\r\\n2019/05/07 7:34:56 PM GMT+8,FPS160,Male,Indian,24,Traditional food,Fresh Juice,Maybe\\r\\n2019/05/07 7:36:02 PM GMT+8,FPS161,Male,Indian,28,Western Food,Fresh Juice,Maybe\\r\\n2019/05/07 7:51:37 PM GMT+8,FPS162,Female,Indian,65,Traditional food,Fresh Juice,No\\r\\n2019/05/07 7:55:21 PM GMT+8,FPS163,Female,Indian,25,Traditional food,Fresh Juice,Maybe\\r\\n2019/05/07 8:19:30 PM GMT+8,FPS164,Female,Indian,33,Traditional food,Fresh Juice,Maybe\\r\\n2019/05/07 8:32:30 PM GMT+8,FPS165,Male,Indian,33,Traditional food,Fresh Juice,Maybe\\r\\n2019/05/07 8:32:32 PM GMT+8,FPS166,Female,Indian,27,Traditional food,Fresh Juice,Maybe\\r\\n2019/05/07 8:46:51 PM GMT+8,FPS167,Female,Indian,27,Traditional food,Fresh Juice,Yes\\r\\n2019/05/07 9:10:10 PM GMT+8,FPS168,Male,Indian,26,Traditional food,Fresh Juice,No\\r\\n2019/05/07 9:18:50 PM GMT+8,FPS169,Female,Indian,25,Traditional food,Fresh Juice,Yes\\r\\n2019/05/07 9:19:56 PM GMT+8,FPS170,Female,Indian,25,Traditional food,Carbonated drinks,Yes\\r\\n2019/05/07 9:21:20 PM GMT+8,FPS171,Male,Indian,34,Traditional food,Fresh Juice,No\\r\\n2019/05/07 9:21:38 PM GMT+8,FPS172,Female,Indian,25,Traditional food,Fresh Juice,Yes\\r\\n2019/05/07 9:35:57 PM GMT+8,FPS173,Female,Indian,26,Western Food,Carbonated drinks,Maybe\\r\\n2019/05/07 9:42:26 PM GMT+8,FPS174,Female,Indian,21,Traditional food,Fresh Juice,Yes\\r\\n2019/05/07 10:25:13 PM GMT+8,FPS175,Female,Indian,26,Traditional food,Fresh Juice,No\\r\\n2019/05/07 10:45:27 PM GMT+8,FPS176,Female,Indian,25,Traditional food,Carbonated drinks,Maybe\\r\\n2019/05/07 11:05:22 PM GMT+8,FPS177,Male,Indian,30,Traditional food,Fresh Juice,Maybe\\r\\n2019/05/07 11:14:44 PM GMT+8,FPS178,Male,Indian,9,Western Food,Fresh Juice,Yes\\r\\n2019/05/08 1:09:01 AM GMT+8,FPS179,Female,Indian,39,Traditional food,Fresh Juice,Maybe\\r\\n2019/05/08 1:12:06 AM GMT+8,FPS180,Female,Indian,35,Traditional food,Fresh Juice,No\\r\\n2019/05/08 1:14:27 AM GMT+8,FPS181,Female,Indian,30,Traditional food,Fresh Juice,Maybe\\r\\n2019/05/08 1:15:02 AM GMT+8,FPS182,Female,Indian,45,Traditional food,Fresh Juice,Maybe\\r\\n2019/05/08 1:15:18 AM GMT+8,FPS183,Female,Indian,38,Traditional food,Fresh Juice,Maybe\\r\\n2019/05/08 1:16:11 AM GMT+8,FPS184,Female,Indian,30,Traditional food,Fresh Juice,Maybe\\r\\n2019/05/08 1:16:11 AM GMT+8,FPS185,Female,Indian,35,Western Food,Fresh Juice,Yes\\r\\n2019/05/08 1:17:19 AM GMT+8,FPS186,Female,Indian,40,Traditional food,Fresh Juice,Maybe\\r\\n2019/05/08 1:26:19 AM GMT+8,FPS187,Female,Indian,29,Traditional food,Fresh Juice,Yes\\r\\n2019/05/08 1:57:27 AM GMT+8,FPS188,Female,Indian,45,Traditional food,Fresh Juice,Maybe\\r\\n2019/05/08 2:11:03 AM GMT+8,FPS189,Female,Indian,33,Traditional food,Fresh Juice,Yes\\r\\n2019/05/08 2:40:06 AM GMT+8,FPS190,Female,Indian,35,Traditional food,Fresh Juice,No\\r\\n2019/05/08 2:41:21 AM GMT+8,FPS191,Female,Indian,50,Traditional food,Fresh Juice,Yes\\r\\n2019/05/08 3:31:40 AM GMT+8,FPS192,Male,Indian,23,Traditional food,Fresh Juice,Yes\\r\\n2019/05/08 9:47:54 AM GMT+8,FPS193,Female,Indian,40,Traditional food,Fresh Juice,Maybe\\r\\n2019/05/08 10:48:53 AM GMT+8,FPS194,Female,Indian,50,Traditional food,Fresh Juice,Maybe\\r\\n2019/05/08 10:56:46 AM GMT+8,FPS195,Male,Indian,31,Traditional food,Fresh Juice,Maybe\\r\\n2019/05/08 11:00:15 AM GMT+8,FPS196,Female,Indian,33,Traditional food,Fresh Juice,No\\r\\n2019/05/08 11:01:02 AM GMT+8,FPS197,Female,Indian,37,Traditional food,Fresh Juice,No\\r\\n2019/05/08 11:01:38 AM GMT+8,FPS198,Female,Indian,35,Traditional food,Fresh Juice,No\\r\\n2019/05/08 11:01:41 AM GMT+8,FPS199,Female,Indian,49,Traditional food,Fresh Juice,Maybe\\r\\n2019/05/08 11:04:18 AM GMT+8,FPS200,Female,Indian,42,Traditional food,Fresh Juice,Maybe\\r\\n2019/05/08 11:18:27 AM GMT+8,FPS201,Female,Indian,31,Traditional food,Fresh Juice,Maybe\\r\\n2019/05/08 11:19:03 AM GMT+8,FPS202,Male,Indian,34,Traditional food,Fresh Juice,Yes\\r\\n2019/05/08 11:28:48 AM GMT+8,FPS203,Female,Indian,51,Traditional food,Fresh Juice,No\\r\\n2019/05/08 11:33:11 AM GMT+8,FPS204,Female,Indian,39,Traditional food,Fresh Juice,No\\r\\n2019/05/08 11:41:03 AM GMT+8,FPS205,Female,Indian,28,Traditional food,Fresh Juice,Maybe\\r\\n2019/05/08 12:09:32 PM GMT+8,FPS206,Female,Indian,23,Traditional food,Fresh Juice,Maybe\\r\\n2019/05/08 12:10:04 PM GMT+8,FPS207,Female,Indian,24,Traditional food,Fresh Juice,Maybe\\r\\n2019/05/08 12:10:38 PM GMT+8,FPS208,Female,Indian,40,Traditional food,Fresh Juice,No\\r\\n2019/05/08 12:11:05 PM GMT+8,FPS209,Female,Indian,37,Traditional food,Fresh Juice,Maybe\\r\\n2019/05/08 12:11:37 PM GMT+8,FPS210,Female,Indian,30,Traditional food,Fresh Juice,No\\r\\n2019/05/08 12:11:49 PM GMT+8,FPS211,Female,Indian,34,Traditional food,Fresh Juice,No\\r\\n2019/05/08 12:12:20 PM GMT+8,FPS212,Female,Indian,37,Traditional food,Fresh Juice,Yes\\r\\n2019/05/08 12:13:10 PM GMT+8,FPS213,Female,Indian,45,Traditional food,Fresh Juice,No\\r\\n2019/05/08 12:16:36 PM GMT+8,FPS214,Female,Indian,21,Traditional food,Carbonated drinks,Maybe\\r\\n2019/05/08 12:16:59 PM GMT+8,FPS215,Female,Indian,28,Traditional food,Fresh Juice,Maybe\\r\\n2019/05/08 12:17:34 PM GMT+8,FPS216,Female,Indian,24,Western Food,Fresh Juice,Maybe\\r\\n2019/05/08 12:18:07 PM GMT+8,FPS217,Female,Indian,24,Western Food,Fresh Juice,Maybe\\r\\n2019/05/08 12:23:28 PM GMT+8,FPS218,Female,Indian,37,Traditional food,Fresh Juice,No\\r\\n2019/05/08 12:24:54 PM GMT+8,FPS219,Female,Indian,44,Traditional food,Fresh Juice,Maybe\\r\\n2019/05/08 12:26:29 PM GMT+8,FPS220,Male,Indian,30,Traditional food,Fresh Juice,Yes\\r\\n2019/05/08 12:33:51 PM GMT+8,FPS221,Female,Indian,40,Traditional food,Fresh Juice,Maybe\\r\\n2019/05/08 12:35:06 PM GMT+8,FPS222,Male,Indian,38,Traditional food,Fresh Juice,No\\r\\n2019/05/08 12:38:28 PM GMT+8,FPS223,Female,Indian,33,Traditional food,Fresh Juice,Maybe\\r\\n2019/05/08 12:45:41 PM GMT+8,FPS224,Female,Indian,38,Traditional food,Fresh Juice,Maybe\\r\\n2019/05/08 12:55:02 PM GMT+8,FPS225,Male,Indian,38,Traditional food,Fresh Juice,Yes\\r\\n2019/05/08 1:03:16 PM GMT+8,FPS226,,Indian,30,Traditional food,Fresh Juice,Yes\\r\\n2019/05/08 1:14:13 PM GMT+8,FPS227,Female,Indian,37,Traditional food,Fresh Juice,Maybe\\r\\n2019/05/08 1:22:46 PM GMT+8,FPS228,Female,Indian,34,Traditional food,Fresh Juice,Yes\\r\\n2019/05/08 1:24:22 PM GMT+8,FPS229,Female,Indian,56,Traditional food,Fresh Juice,No\\r\\n2019/05/08 1:25:49 PM GMT+8,FPS230,Male,Indian,40,Western Food,Fresh Juice,Maybe\\r\\n2019/05/08 1:44:31 PM GMT+8,FPS231,Male,Indian,38,Traditional food,Fresh Juice,Maybe\\r\\n2019/05/08 1:51:32 PM GMT+8,FPS232,Female,Indian,42,Traditional food,Carbonated drinks,Maybe\\r\\n2019/05/08 1:51:48 PM GMT+8,FPS233,Female,Indian,24,Western Food,Fresh Juice,Yes\\r\\n2019/05/08 1:54:38 PM GMT+8,FPS234,Female,Indian,25,Western Food,Fresh Juice,Maybe\\r\\n2019/05/08 1:59:56 PM GMT+8,FPS235,Female,Indian,36,Traditional food,Fresh Juice,No\\r\\n2019/05/08 2:04:33 PM GMT+8,FPS236,Male,Indian,18,Traditional food,Fresh Juice,Maybe\\r\\n2019/05/08 2:38:01 PM GMT+8,FPS237,Female,Indian,30,Traditional food,Fresh Juice,Yes\\r\\n2019/05/08 2:40:18 PM GMT+8,FPS238,Female,Indian,39,Traditional food,Fresh Juice,Yes\\r\\n2019/05/08 2:40:34 PM GMT+8,FPS239,Female,Indian,45,Traditional food,Fresh Juice,Maybe\\r\\n2019/05/08 3:52:45 PM GMT+8,FPS240,Female,Indian,24,Traditional food,Fresh Juice,Maybe\\r\\n2019/05/08 4:12:33 PM GMT+8,FPS241,Male,Indian,9,Traditional food,Fresh Juice,Yes\\r\\n2019/05/08 4:14:33 PM GMT+8,FPS242,Female,Indian,50,Traditional food,Fresh Juice,Yes\\r\\n2019/05/08 4:20:38 PM GMT+8,FPS243,Female,Indian,22,Western Food,Fresh Juice,Maybe\\r\\n2019/05/08 4:50:14 PM GMT+8,FPS244,Female,Indian,40,Traditional food,Fresh Juice,Yes\\r\\n2019/05/08 5:03:32 PM GMT+8,FPS245,Female,Indian,36,Traditional food,Fresh Juice,Maybe\\r\\n2019/05/08 5:54:40 PM GMT+8,FPS246,Female,Indian,35,Traditional food,Fresh Juice,Yes\\r\\n2019/05/08 5:59:40 PM GMT+8,FPS247,Female,Indian,35,Traditional food,Fresh Juice,No\\r\\n2019/05/08 6:07:40 PM GMT+8,FPS248,Female,Indian,40,Traditional food,Fresh Juice,No\\r\\n2019/05/08 6:19:33 PM GMT+8,FPS249,Female,Indian,32,Traditional food,Fresh Juice,Maybe\\r\\n2019/05/08 7:05:58 PM GMT+8,FPS250,Female,Indian,28,Traditional food,Fresh Juice,Yes\\r\\n2019/05/08 7:07:28 PM GMT+8,FPS251,Female,Indian,25,Traditional food,Fresh Juice,Maybe\\r\\n2019/05/08 7:10:38 PM GMT+8,FPS252,Female,Indian,27,Traditional food,Fresh Juice,Yes\\r\\n2019/05/08 7:17:36 PM GMT+8,FPS253,Female,Indian,28,Traditional food,Fresh Juice,Maybe\\r\\n2019/05/08 10:17:09 PM GMT+8,FPS254,Female,Indian,38,Traditional food,Fresh Juice,Maybe\\r\\n2019/05/08 11:07:06 PM GMT+8,FPS255,Female,Indian,17,Traditional food,Fresh Juice,No\\r\\n2019/05/09 12:40:17 AM GMT+8,FPS256,Male,Indian,42,Traditional food,Fresh Juice,Maybe\\r\\n2019/05/09 12:46:32 AM GMT+8,FPS257,Female,Indian,42,Traditional food,Fresh Juice,Yes\\r\\n2019/05/09 2:23:31 AM GMT+8,FPS258,Female,Indian,37,Traditional food,Fresh Juice,Yes\\r\\n2019/05/09 10:04:18 AM GMT+8,FPS259,Female,Indian,42,Traditional food,Fresh Juice,No\\r\\n2019/05/09 10:43:42 AM GMT+8,FPS260,Female,Indian,37,Traditional food,Fresh Juice,Yes\\r\\n2019/05/09 10:47:53 AM GMT+8,FPS261,Female,Indian,46,Traditional food,Fresh Juice,No\\r\\n2019/05/09 3:25:56 PM GMT+8,FPS262,Female,Indian,36,Traditional food,Fresh Juice,Maybe\\r\\n2019/05/10 1:07:43 AM GMT+8,FPS263,Male,Indian,26,Traditional food,Fresh Juice,Yes\\r\\n2019/05/10 1:07:43 AM GMT+8,FPS264,Male,Indian,27,Traditional food,Fresh Juice,No\\r\\n2019/05/10 1:08:37 AM GMT+8,FPS265,Male,Indian,25,Traditional food,Fresh Juice,Yes\\r\\n2019/05/10 1:08:44 AM GMT+8,FPS266,Male,Indian,27,Western Food,Fresh Juice,Yes\\r\\n2019/05/10 1:08:46 AM GMT+8,FPS267,Male,Indian,27,Traditional food,Fresh Juice,Yes\\r\\n2019/05/10 1:08:57 AM GMT+8,FPS268,Male,Indian,25,Traditional food,Fresh Juice,Maybe\\r\\n2019/05/10 1:09:22 AM GMT+8,FPS269,,Indian,23,Traditional food,Fresh Juice,Yes\\r\\n2019/05/10 1:10:39 AM GMT+8,FPS270,Male,Indian,26,Traditional food,Fresh Juice,Maybe\\r\\n2019/05/10 1:11:07 AM GMT+8,FPS271,Male,Indian,23,Traditional food,Carbonated drinks,Yes\\r\\n2019/05/10 1:11:51 AM GMT+8,FPS272,Male,Indian,28,Traditional food,Fresh Juice,Maybe\\r\\n2019/05/10 1:12:09 AM GMT+8,FPS273,Male,Indian,23,Traditional food,Fresh Juice,Maybe\\r\\n2019/05/10 1:17:19 AM GMT+8,FPS274,Female,Indian,22,Traditional food,Fresh Juice,Maybe\\r\\n2019/05/10 1:30:45 AM GMT+8,FPS275,Male,Indian,29,Western Food,Fresh Juice,Maybe\\r\\n2019/05/10 1:32:30 AM GMT+8,FPS276,Male,Indian,30,Traditional food,Fresh Juice,Maybe\\r\\n2019/05/10 1:34:44 AM GMT+8,FPS277,Male,Indian,28,Traditional food,Carbonated drinks,Yes\\r\\n2019/05/10 1:46:27 AM GMT+8,FPS278,,Indian,26,Traditional food,Fresh Juice,Yes\\r\\n2019/05/10 1:51:17 AM GMT+8,FPS279,Male,Indian,25,Traditional food,Carbonated drinks,Yes\\r\\n2019/05/10 2:01:42 AM GMT+8,FPS280,Male,Indian,24,Traditional food,Fresh Juice,Maybe\\r\\n2019/05/10 2:54:19 AM GMT+8,FPS281,Male,Indian,25,Traditional food,Fresh Juice,Maybe\\r\\n2019/05/10 4:24:00 AM GMT+8,FPS282,Male,Indian,27,Traditional food,Fresh Juice,Maybe\\r\\n2019/05/10 9:13:05 AM GMT+8,FPS283,Male,Indian,27,Traditional food,Fresh Juice,No\\r\\n2019/05/10 9:24:00 AM GMT+8,FPS284,Male,Indian,27,Western Food,Fresh Juice,Yes\\r\\n2019/05/10 9:32:54 AM GMT+8,FPS285,Male,Indian,24,Traditional food,Fresh Juice,Yes\\r\\n2019/05/10 12:09:17 PM GMT+8,FPS286,Male,Indian,25,Traditional food,Fresh Juice,Yes\\r\\n2019/05/10 12:52:17 PM GMT+8,FPS287,Male,Indian,27,Traditional food,Fresh Juice,Yes\\r\\n2019/05/10 12:55:42 PM GMT+8,FPS288,Male,Indian,27,Traditional food,Fresh Juice,No\\r\\n'}"
            ]
          },
          "metadata": {
            "tags": []
          },
          "execution_count": 1
        }
      ]
    },
    {
      "cell_type": "code",
      "metadata": {
        "id": "Lo6-xEhXI6Gp"
      },
      "source": [
        "import numpy as np\r\n",
        "import pandas as pd"
      ],
      "execution_count": 2,
      "outputs": []
    },
    {
      "cell_type": "code",
      "metadata": {
        "id": "QhzmXS7tKW86"
      },
      "source": [
        "df = pd.read_csv('Food_Preference.csv')"
      ],
      "execution_count": 4,
      "outputs": []
    },
    {
      "cell_type": "code",
      "metadata": {
        "colab": {
          "base_uri": "https://localhost:8080/"
        },
        "id": "XN9UxF8-KljG",
        "outputId": "e55a5e7d-b377-415f-99e8-64bece7c892a"
      },
      "source": [
        "df.columns"
      ],
      "execution_count": 5,
      "outputs": [
        {
          "output_type": "execute_result",
          "data": {
            "text/plain": [
              "Index(['Timestamp', 'Participant_ID', 'Gender', 'Nationality', 'Age', 'Food',\n",
              "       'Juice', 'Dessert'],\n",
              "      dtype='object')"
            ]
          },
          "metadata": {
            "tags": []
          },
          "execution_count": 5
        }
      ]
    },
    {
      "cell_type": "code",
      "metadata": {
        "colab": {
          "base_uri": "https://localhost:8080/"
        },
        "id": "oW553bGlKwSt",
        "outputId": "3cb02b7a-71ac-4139-e19c-f5e9544502e1"
      },
      "source": [
        "df.dtypes"
      ],
      "execution_count": 6,
      "outputs": [
        {
          "output_type": "execute_result",
          "data": {
            "text/plain": [
              "Timestamp         object\n",
              "Participant_ID    object\n",
              "Gender            object\n",
              "Nationality       object\n",
              "Age                int64\n",
              "Food              object\n",
              "Juice             object\n",
              "Dessert           object\n",
              "dtype: object"
            ]
          },
          "metadata": {
            "tags": []
          },
          "execution_count": 6
        }
      ]
    },
    {
      "cell_type": "code",
      "metadata": {
        "id": "Oc3olJWGKyj_"
      },
      "source": [
        "df.drop(['Timestamp', 'Participant_ID'], axis=1, inplace=True)"
      ],
      "execution_count": 8,
      "outputs": []
    },
    {
      "cell_type": "code",
      "metadata": {
        "colab": {
          "base_uri": "https://localhost:8080/"
        },
        "id": "06erP4dSK3b2",
        "outputId": "d3d3c349-ac61-46ef-e545-0996533c3503"
      },
      "source": [
        "df['Gender'].value_counts()"
      ],
      "execution_count": 9,
      "outputs": [
        {
          "output_type": "execute_result",
          "data": {
            "text/plain": [
              "Female    165\n",
              "Male      119\n",
              "Name: Gender, dtype: int64"
            ]
          },
          "metadata": {
            "tags": []
          },
          "execution_count": 9
        }
      ]
    },
    {
      "cell_type": "code",
      "metadata": {
        "id": "AeW_Sv-xLEZa"
      },
      "source": [
        "df['Gender']= df['Gender'].replace('Male', 1)\r\n",
        "df['Gender']= df['Gender'].replace('Female', 0)"
      ],
      "execution_count": 12,
      "outputs": []
    },
    {
      "cell_type": "code",
      "metadata": {
        "colab": {
          "base_uri": "https://localhost:8080/"
        },
        "id": "-sxhp-UXLM_q",
        "outputId": "dc882cd0-6634-43d3-f9fe-abbe97359e3e"
      },
      "source": [
        "df['Food'].value_counts()"
      ],
      "execution_count": 14,
      "outputs": [
        {
          "output_type": "execute_result",
          "data": {
            "text/plain": [
              "Traditional food    238\n",
              "Western Food         50\n",
              "Name: Food, dtype: int64"
            ]
          },
          "metadata": {
            "tags": []
          },
          "execution_count": 14
        }
      ]
    },
    {
      "cell_type": "code",
      "metadata": {
        "id": "eLZgA96pLapN"
      },
      "source": [
        "df['Food']= df['Food'].replace('Traditional food', 1)\r\n",
        "df['Food']= df['Food'].replace('Western Food', 0)"
      ],
      "execution_count": 16,
      "outputs": []
    },
    {
      "cell_type": "code",
      "metadata": {
        "colab": {
          "base_uri": "https://localhost:8080/"
        },
        "id": "TyelV3g4LniV",
        "outputId": "5393fd72-1e66-4644-a04a-5b57618a5252"
      },
      "source": [
        "df.describe"
      ],
      "execution_count": 17,
      "outputs": [
        {
          "output_type": "execute_result",
          "data": {
            "text/plain": [
              "<bound method NDFrame.describe of      Gender Nationality  Age  Food              Juice Dessert\n",
              "0       1.0      Indian   24     1        Fresh Juice   Maybe\n",
              "1       0.0      Indian   22     0  Carbonated drinks     Yes\n",
              "2       1.0      Indian   31     0        Fresh Juice   Maybe\n",
              "3       0.0      Indian   25     1        Fresh Juice   Maybe\n",
              "4       1.0      Indian   27     1        Fresh Juice   Maybe\n",
              "..      ...         ...  ...   ...                ...     ...\n",
              "283     1.0      Indian   27     0        Fresh Juice     Yes\n",
              "284     1.0      Indian   24     1        Fresh Juice     Yes\n",
              "285     1.0      Indian   25     1        Fresh Juice     Yes\n",
              "286     1.0      Indian   27     1        Fresh Juice     Yes\n",
              "287     1.0      Indian   27     1        Fresh Juice      No\n",
              "\n",
              "[288 rows x 6 columns]>"
            ]
          },
          "metadata": {
            "tags": []
          },
          "execution_count": 17
        }
      ]
    },
    {
      "cell_type": "code",
      "metadata": {
        "colab": {
          "base_uri": "https://localhost:8080/"
        },
        "id": "_NL5ShIHL5zd",
        "outputId": "1fd9d501-dfa3-4207-f72b-df2419467a93"
      },
      "source": [
        "df['Dessert'].value_counts()"
      ],
      "execution_count": 18,
      "outputs": [
        {
          "output_type": "execute_result",
          "data": {
            "text/plain": [
              "Maybe    122\n",
              "Yes      114\n",
              "No        52\n",
              "Name: Dessert, dtype: int64"
            ]
          },
          "metadata": {
            "tags": []
          },
          "execution_count": 18
        }
      ]
    },
    {
      "cell_type": "code",
      "metadata": {
        "colab": {
          "base_uri": "https://localhost:8080/"
        },
        "id": "txA0GucdMDsP",
        "outputId": "56b06eec-57bf-402b-ffd9-c23b5c067202"
      },
      "source": [
        "df.isnull().sum()"
      ],
      "execution_count": 19,
      "outputs": [
        {
          "output_type": "execute_result",
          "data": {
            "text/plain": [
              "Gender         4\n",
              "Nationality    0\n",
              "Age            0\n",
              "Food           0\n",
              "Juice          0\n",
              "Dessert        0\n",
              "dtype: int64"
            ]
          },
          "metadata": {
            "tags": []
          },
          "execution_count": 19
        }
      ]
    },
    {
      "cell_type": "code",
      "metadata": {
        "id": "P2wHLdnvMP_w"
      },
      "source": [
        "df = df.dropna()"
      ],
      "execution_count": 20,
      "outputs": []
    },
    {
      "cell_type": "code",
      "metadata": {
        "colab": {
          "base_uri": "https://localhost:8080/"
        },
        "id": "W33mcKw2MWHj",
        "outputId": "ac3186a6-e7f8-442b-bf8f-532d16fde80d"
      },
      "source": [
        "df.isnull().sum()"
      ],
      "execution_count": 21,
      "outputs": [
        {
          "output_type": "execute_result",
          "data": {
            "text/plain": [
              "Gender         0\n",
              "Nationality    0\n",
              "Age            0\n",
              "Food           0\n",
              "Juice          0\n",
              "Dessert        0\n",
              "dtype: int64"
            ]
          },
          "metadata": {
            "tags": []
          },
          "execution_count": 21
        }
      ]
    },
    {
      "cell_type": "code",
      "metadata": {
        "id": "IJ2kcNIdMYEB"
      },
      "source": [
        "df.reset_index(drop=True, inplace=True)"
      ],
      "execution_count": 22,
      "outputs": []
    },
    {
      "cell_type": "code",
      "metadata": {
        "colab": {
          "base_uri": "https://localhost:8080/"
        },
        "id": "sdtwWPMmMcf-",
        "outputId": "686edf8a-bffc-4b3e-f32e-025a9259b32a"
      },
      "source": [
        "df.shape"
      ],
      "execution_count": 23,
      "outputs": [
        {
          "output_type": "execute_result",
          "data": {
            "text/plain": [
              "(284, 6)"
            ]
          },
          "metadata": {
            "tags": []
          },
          "execution_count": 23
        }
      ]
    },
    {
      "cell_type": "code",
      "metadata": {
        "colab": {
          "base_uri": "https://localhost:8080/",
          "height": 195
        },
        "id": "eRq4UXE1MjsA",
        "outputId": "22172bc4-504b-4237-b482-bcfc4e442a4a"
      },
      "source": [
        "df.head()"
      ],
      "execution_count": 24,
      "outputs": [
        {
          "output_type": "execute_result",
          "data": {
            "text/html": [
              "<div>\n",
              "<style scoped>\n",
              "    .dataframe tbody tr th:only-of-type {\n",
              "        vertical-align: middle;\n",
              "    }\n",
              "\n",
              "    .dataframe tbody tr th {\n",
              "        vertical-align: top;\n",
              "    }\n",
              "\n",
              "    .dataframe thead th {\n",
              "        text-align: right;\n",
              "    }\n",
              "</style>\n",
              "<table border=\"1\" class=\"dataframe\">\n",
              "  <thead>\n",
              "    <tr style=\"text-align: right;\">\n",
              "      <th></th>\n",
              "      <th>Gender</th>\n",
              "      <th>Nationality</th>\n",
              "      <th>Age</th>\n",
              "      <th>Food</th>\n",
              "      <th>Juice</th>\n",
              "      <th>Dessert</th>\n",
              "    </tr>\n",
              "  </thead>\n",
              "  <tbody>\n",
              "    <tr>\n",
              "      <th>0</th>\n",
              "      <td>1.0</td>\n",
              "      <td>Indian</td>\n",
              "      <td>24</td>\n",
              "      <td>1</td>\n",
              "      <td>Fresh Juice</td>\n",
              "      <td>Maybe</td>\n",
              "    </tr>\n",
              "    <tr>\n",
              "      <th>1</th>\n",
              "      <td>0.0</td>\n",
              "      <td>Indian</td>\n",
              "      <td>22</td>\n",
              "      <td>0</td>\n",
              "      <td>Carbonated drinks</td>\n",
              "      <td>Yes</td>\n",
              "    </tr>\n",
              "    <tr>\n",
              "      <th>2</th>\n",
              "      <td>1.0</td>\n",
              "      <td>Indian</td>\n",
              "      <td>31</td>\n",
              "      <td>0</td>\n",
              "      <td>Fresh Juice</td>\n",
              "      <td>Maybe</td>\n",
              "    </tr>\n",
              "    <tr>\n",
              "      <th>3</th>\n",
              "      <td>0.0</td>\n",
              "      <td>Indian</td>\n",
              "      <td>25</td>\n",
              "      <td>1</td>\n",
              "      <td>Fresh Juice</td>\n",
              "      <td>Maybe</td>\n",
              "    </tr>\n",
              "    <tr>\n",
              "      <th>4</th>\n",
              "      <td>1.0</td>\n",
              "      <td>Indian</td>\n",
              "      <td>27</td>\n",
              "      <td>1</td>\n",
              "      <td>Fresh Juice</td>\n",
              "      <td>Maybe</td>\n",
              "    </tr>\n",
              "  </tbody>\n",
              "</table>\n",
              "</div>"
            ],
            "text/plain": [
              "   Gender Nationality  Age  Food              Juice Dessert\n",
              "0     1.0      Indian   24     1        Fresh Juice   Maybe\n",
              "1     0.0      Indian   22     0  Carbonated drinks     Yes\n",
              "2     1.0      Indian   31     0        Fresh Juice   Maybe\n",
              "3     0.0      Indian   25     1        Fresh Juice   Maybe\n",
              "4     1.0      Indian   27     1        Fresh Juice   Maybe"
            ]
          },
          "metadata": {
            "tags": []
          },
          "execution_count": 24
        }
      ]
    },
    {
      "cell_type": "code",
      "metadata": {
        "colab": {
          "base_uri": "https://localhost:8080/"
        },
        "id": "w8n0GuXnMmG1",
        "outputId": "1bac0127-f06e-41fe-cc6b-bceac3732844"
      },
      "source": [
        "df.dtypes"
      ],
      "execution_count": 26,
      "outputs": [
        {
          "output_type": "execute_result",
          "data": {
            "text/plain": [
              "Gender         float64\n",
              "Nationality     object\n",
              "Age              int64\n",
              "Food             int64\n",
              "Juice           object\n",
              "Dessert         object\n",
              "dtype: object"
            ]
          },
          "metadata": {
            "tags": []
          },
          "execution_count": 26
        }
      ]
    },
    {
      "cell_type": "code",
      "metadata": {
        "id": "XS0U2YmaMuV4"
      },
      "source": [
        "df.to_csv(\"Food_Preference\")"
      ],
      "execution_count": 27,
      "outputs": []
    },
    {
      "cell_type": "code",
      "metadata": {
        "id": "DSKvOwAyN6fn"
      },
      "source": [
        ""
      ],
      "execution_count": null,
      "outputs": []
    }
  ]
}